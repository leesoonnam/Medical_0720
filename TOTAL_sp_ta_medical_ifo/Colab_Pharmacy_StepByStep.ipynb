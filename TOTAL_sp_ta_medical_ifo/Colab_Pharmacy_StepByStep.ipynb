{
 "cells": [
  {
   "cell_type": "markdown",
   "id": "123fb9b7",
   "metadata": {},
   "source": [
    "# 💊 Colab 실습 노트북: 폐의약품 수거 약국 찾기\n",
    "\n",
    "✔️ CSV 업로드 → 약국 데이터 필터링 → 수거약품목 컬럼 랜덤 추가 → 새 CSV 저장 & 다운로드"
   ]
  },
  {
   "cell_type": "markdown",
   "id": "9e1e6256",
   "metadata": {},
   "source": [
    "## ✅ 1️⃣ CSV 파일 업로드"
   ]
  },
  {
   "cell_type": "code",
   "execution_count": null,
   "id": "11e952be",
   "metadata": {},
   "outputs": [],
   "source": [
    "from google.colab import files\n",
    "uploaded = files.upload()"
   ]
  },
  {
   "cell_type": "markdown",
   "id": "e5e12808",
   "metadata": {},
   "source": [
    "## ✅ 2️⃣ pandas로 CSV 열기 & 구조 확인"
   ]
  },
  {
   "cell_type": "code",
   "execution_count": null,
   "id": "cb7a7ddf",
   "metadata": {},
   "outputs": [],
   "source": [
    "import pandas as pd\n",
    "\n",
    "file_path = \"TOTAL_sp_ta_medical_ifo.csv\"\n",
    "df = pd.read_csv(file_path, encoding=\"euc-kr\")\n",
    "\n",
    "print(df.head())\n",
    "print(df.columns)\n",
    "print(df.shape)\n",
    "print(df.info())"
   ]
  },
  {
   "cell_type": "markdown",
   "id": "f32f47a8",
   "metadata": {},
   "source": [
    "## ✅ 3️⃣ 약국 데이터 필터링 ('종별코드명' & '천안서북구')"
   ]
  },
  {
   "cell_type": "code",
   "execution_count": null,
   "id": "b1145aab",
   "metadata": {},
   "outputs": [],
   "source": [
    "df_pharmacy = df[df['종별코드명'].str.contains('약국', na=False)]\n",
    "df_seobuk = df_pharmacy[df_pharmacy['시군구명'] == '천안서북구']\n",
    "df_seobuk.to_csv(\"cheonan_seobuk_pharmacy.csv\", index=False, encoding=\"utf-8-sig\")\n",
    "df_seobuk.head()"
   ]
  },
  {
   "cell_type": "markdown",
   "id": "e66d0278",
   "metadata": {},
   "source": [
    "## ✅ 4️⃣ 위도/경도 빈칸 확인 & 저장"
   ]
  },
  {
   "cell_type": "code",
   "execution_count": null,
   "id": "6c09edff",
   "metadata": {},
   "outputs": [],
   "source": [
    "missing_coords = df_seobuk[df_seobuk['위도'].isnull() | df_seobuk['경도'].isnull()]\n",
    "print(missing_coords)\n",
    "\n",
    "filtered = df_seobuk.dropna(subset=['위도', '경도'])\n",
    "filtered.to_csv(\"cheonan_seobuk_pharmacy_clean.csv\", index=False, encoding=\"utf-8-sig\")\n",
    "filtered.head()"
   ]
  },
  {
   "cell_type": "markdown",
   "id": "4ed2924d",
   "metadata": {},
   "source": [
    "## ✅ 5️⃣ 수거약품목 컬럼 랜덤 추가"
   ]
  },
  {
   "cell_type": "code",
   "execution_count": null,
   "id": "85a18ea1",
   "metadata": {},
   "outputs": [],
   "source": [
    "import random\n",
    "\n",
    "df = pd.read_csv(\"cheonan_seobuk_pharmacy_clean.csv\", encoding=\"utf-8-sig\")\n",
    "\n",
    "categories = [\n",
    "    \"해열제\", \"진통제\", \"소염제\", \"항생제\", \"소화제\",\n",
    "    \"심혈관계\", \"호흡기계\", \"내분비계\", \"신경계\",\n",
    "    \"안이비인후과용\", \"외용제\", \"건강기능식품\"\n",
    "]\n",
    "\n",
    "def random_items():\n",
    "    return \", \".join(random.sample(categories, random.randint(1, 3)))\n",
    "\n",
    "df['수거약품목'] = df.apply(lambda row: random_items(), axis=1)\n",
    "df.head()"
   ]
  },
  {
   "cell_type": "markdown",
   "id": "96969c1d",
   "metadata": {},
   "source": [
    "## ✅ 6️⃣ 새 CSV로 저장 & 내 PC로 다운로드"
   ]
  },
  {
   "cell_type": "code",
   "execution_count": null,
   "id": "03f73f0d",
   "metadata": {},
   "outputs": [],
   "source": [
    "output_filename = \"cheonan_seobuk_pharmacy_with_items.csv\"\n",
    "df.to_csv(output_filename, index=False, encoding=\"utf-8-sig\")\n",
    "\n",
    "from google.colab import files\n",
    "files.download(output_filename)"
   ]
  }
 ],
 "metadata": {},
 "nbformat": 4,
 "nbformat_minor": 5
}
